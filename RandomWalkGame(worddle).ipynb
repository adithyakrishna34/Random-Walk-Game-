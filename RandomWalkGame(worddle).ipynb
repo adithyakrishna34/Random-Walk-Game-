{
 "cells": [
  {
   "cell_type": "code",
   "execution_count": 1,
   "id": "d76ebcdc-433f-45f1-9c98-9eec9ddd81c4",
   "metadata": {},
   "outputs": [],
   "source": [
    "import random"
   ]
  },
  {
   "cell_type": "code",
   "execution_count": 4,
   "id": "177720b8-295a-4f5e-bc37-141fb15468e4",
   "metadata": {},
   "outputs": [],
   "source": [
    "File = \"words.txt\""
   ]
  },
  {
   "cell_type": "code",
   "execution_count": 20,
   "id": "0c8797fc-af98-4c75-8be5-932db0dabf3a",
   "metadata": {},
   "outputs": [],
   "source": [
    "def lineinword():\n",
    "    print(\"------------worddle------------\")\n",
    "    infile = open(File,\"r\")\n",
    "    readfile = infile.readline()\n",
    "    splitfile = readfile.split()\n",
    "    print(\" \",len(splitfile),\"words present\")\n",
    "    return splitfile"
   ]
  },
  {
   "cell_type": "code",
   "execution_count": 21,
   "id": "b0bd05db-7ff4-4947-bfc8-e512b90466c6",
   "metadata": {},
   "outputs": [
    {
     "name": "stdout",
     "output_type": "stream",
     "text": [
      "------------worddle------------\n",
      "  55909 words present\n"
     ]
    }
   ],
   "source": [
    "def choose(splitfile):\n",
    "    return random.choice(splitfile)\n",
    "splitfile = lineinword()    "
   ]
  },
  {
   "cell_type": "code",
   "execution_count": 22,
   "id": "27b661e0-116f-431c-9649-24157b23cf2f",
   "metadata": {},
   "outputs": [],
   "source": [
    "def wordguess(hidden,guessed):\n",
    "    x = 0\n",
    "    for i in guessed:\n",
    "        if i in hidden:\n",
    "            x+=1\n",
    "    if x == len(hidden):\n",
    "        return True\n",
    "    else:\n",
    "        return False"
   ]
  },
  {
   "cell_type": "code",
   "execution_count": 29,
   "id": "09fd6b7e-0bac-4070-837b-44d98cf72dfd",
   "metadata": {},
   "outputs": [],
   "source": [
    "def hiddenword(hidden,guessed):\n",
    "    h = []\n",
    "    for i in hidden:\n",
    "        if i in guessed:\n",
    "            h.append(i)\n",
    "    ans = \" \"            \n",
    "    for i in hidden:\n",
    "        if i in h:\n",
    "            ans +=i\n",
    "        else:\n",
    "            ans +=\" _ \"\n",
    "    return ans    "
   ]
  },
  {
   "cell_type": "code",
   "execution_count": 30,
   "id": "bdd3068d-eaca-4701-8b82-63a7ed9eea4f",
   "metadata": {},
   "outputs": [],
   "source": [
    "def availableletters(guessed):\n",
    "    import string\n",
    "    ans = list(string.ascii_lowercase)\n",
    "    for i in guessed:\n",
    "        ans.remove(i)\n",
    "    return \" \".join(ans)"
   ]
  },
  {
   "cell_type": "code",
   "execution_count": null,
   "id": "29c9e2cd-4530-4347-8276-044e2c43fc46",
   "metadata": {},
   "outputs": [
    {
     "name": "stdout",
     "output_type": "stream",
     "text": [
      "Welcome to Worddle\n",
      "Word contain 10 Letters\n",
      "-------------\n",
      "You have 8 guesses left.\n",
      "Available letters: a b c d e f g h i j k l m n o p q r s t u v w x y z\n"
     ]
    }
   ],
   "source": [
    "def worddle(hidden):\n",
    "    print(\"Welcome to Worddle\")\n",
    "    print(\"Word contain\",len(hidden),\"Letters\")\n",
    "    global guessed\n",
    "    mistakeMade=0\n",
    "    guessed=[]\n",
    "    \n",
    "    while 8 - mistakeMade > 0:\n",
    "        \n",
    "        if wordguess(hidden, guessed):\n",
    "            print(\"-------------\")\n",
    "            print(\"Congratulations, you won!\")\n",
    "            break\n",
    "            \n",
    "        else:\n",
    "            print(\"-------------\")\n",
    "            print(\"You have\",8-mistakeMade,\"guesses left.\")\n",
    "            print(\"Available letters:\",availableletters(guessed))\n",
    "            guess=str(input(\"Please guess a letter: \")).lower()\n",
    "            \n",
    "            if guess in guessed:\n",
    "                print(\"Oops! You've already guessed that letter:\",hiddenword(hidden,guessed))\n",
    "                \n",
    "            elif guess in hidden and guess not in guessed:\n",
    "                guessed.append(guess)\n",
    "                print(\"Good guess:\",hiddenword(hidden,guessed))\n",
    "                \n",
    "            else:\n",
    "                guessed.append(guess)\n",
    "                mistakeMade += 1\n",
    "                print(\"Oops! That letter is not in my word:\",hiddenword(hidden,guessed))\n",
    "                \n",
    "        if 8 - mistakeMade == 0:\n",
    "            print(\"-------------\")\n",
    "            print(\"Sorry, you ran out of guesses. The word was else.\",hidden)\n",
    "            break\n",
    "        \n",
    "        else:\n",
    "            continue\n",
    "\n",
    "\n",
    "hidden = choose(splitfile).lower()\n",
    "worddle(hidden)"
   ]
  },
  {
   "cell_type": "code",
   "execution_count": null,
   "id": "80205227-2fb6-4d57-b4e8-b4ca3af840cc",
   "metadata": {},
   "outputs": [],
   "source": []
  }
 ],
 "metadata": {
  "kernelspec": {
   "display_name": "Python 3 (ipykernel)",
   "language": "python",
   "name": "python3"
  },
  "language_info": {
   "codemirror_mode": {
    "name": "ipython",
    "version": 3
   },
   "file_extension": ".py",
   "mimetype": "text/x-python",
   "name": "python",
   "nbconvert_exporter": "python",
   "pygments_lexer": "ipython3",
   "version": "3.10.10"
  }
 },
 "nbformat": 4,
 "nbformat_minor": 5
}
